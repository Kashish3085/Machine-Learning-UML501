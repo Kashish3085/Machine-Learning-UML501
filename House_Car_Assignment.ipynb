{
 "cells": [
  {
   "cell_type": "markdown",
   "id": "75afe348",
   "metadata": {},
   "source": [
    "## Q1: K-Fold Cross Validation for Multiple Linear Regression"
   ]
  },
  {
   "cell_type": "code",
   "execution_count": 7,
   "id": "88baf307",
   "metadata": {},
   "outputs": [
    {
     "name": "stdout",
     "output_type": "stream",
     "text": [
      "Index(['Avg. Area Income', 'Avg. Area House Age', 'Avg. Area Number of Rooms',\n",
      "       'Avg. Area Number of Bedrooms', 'Area Population', 'Price'],\n",
      "      dtype='object')\n"
     ]
    },
    {
     "data": {
      "text/plain": [
       "([0.9179971706985147,\n",
       "  0.9145677884802819,\n",
       "  0.9116116385364478,\n",
       "  0.9193091764960816,\n",
       "  0.9243869413350316],\n",
       " np.float64(0.9175745431092714))"
      ]
     },
     "execution_count": 7,
     "metadata": {},
     "output_type": "execute_result"
    }
   ],
   "source": [
    "\n",
    "import pandas as pd\n",
    "import numpy as np\n",
    "from sklearn.model_selection import KFold, train_test_split\n",
    "from sklearn.linear_model import LinearRegression, SGDRegressor\n",
    "from sklearn.preprocessing import StandardScaler, LabelEncoder\n",
    "from sklearn.metrics import r2_score, mean_squared_error\n",
    "from sklearn.decomposition import PCA\n",
    "\n",
    "df = pd.read_csv(\"USA_Housing.csv\")\n",
    "print(df.columns)\n",
    "X = df.drop(columns=['Price'])\n",
    "y = df['Price']\n",
    "scaler = StandardScaler()\n",
    "X_scaled = scaler.fit_transform(X)\n",
    "\n",
    "kf = KFold(n_splits=5, shuffle=True, random_state=42)\n",
    "r2_scores = []\n",
    "coefs = []\n",
    "\n",
    "for train_idx, test_idx in kf.split(X_scaled):\n",
    "    X_train, X_test = X_scaled[train_idx], X_scaled[test_idx]\n",
    "    y_train, y_test = y.iloc[train_idx], y.iloc[test_idx]\n",
    "    model = LinearRegression()\n",
    "    model.fit(X_train, y_train)\n",
    "    y_pred = model.predict(X_test)\n",
    "    r2 = r2_score(y_test, y_pred)\n",
    "    r2_scores.append(r2)\n",
    "    coefs.append(model.coef_)\n",
    "\n",
    "r2_scores, np.mean(r2_scores)\n",
    "\n"
   ]
  },
  {
   "cell_type": "markdown",
   "id": "fcc61be2",
   "metadata": {},
   "source": [
    "## Q2: Validation Set for Multiple Linear Regression using Gradient Descent"
   ]
  },
  {
   "cell_type": "code",
   "execution_count": 8,
   "id": "4de6a194",
   "metadata": {},
   "outputs": [
    {
     "data": {
      "text/plain": [
       "{0.001: {'coefficients': array([231091.21597604, 165206.13447671, 118549.75471073,   1909.04903299,\n",
       "         152032.00685444]),\n",
       "  'val_R2': 0.9200819101019124,\n",
       "  'test_R2': 0.9131986101163132},\n",
       " 0.01: {'coefficients': array([215186.76086019, 168639.91875574, 117859.63496216,  16619.91282014,\n",
       "         159731.30385266]),\n",
       "  'val_R2': 0.9143839741460056,\n",
       "  'test_R2': 0.9100609895521061},\n",
       " 0.1: {'coefficients': array([277744.85026558, 144237.01668131, 148253.7083827 ,   2560.08496823,\n",
       "         156927.53459416]),\n",
       "  'val_R2': 0.889345887368122,\n",
       "  'test_R2': 0.8864945907011517},\n",
       " 1: {'coefficients': array([-6.21098064e+11, -1.25286847e+12,  1.19821563e+12, -8.62686101e+11,\n",
       "          2.06818583e+12]),\n",
       "  'val_R2': -122806747379446.52,\n",
       "  'test_R2': -108816578308372.25}}"
      ]
     },
     "execution_count": 8,
     "metadata": {},
     "output_type": "execute_result"
    }
   ],
   "source": [
    "\n",
    "X_train, X_temp, y_train, y_temp = train_test_split(X_scaled, y, test_size=0.44, random_state=42)\n",
    "X_val, X_test, y_val, y_test = train_test_split(X_temp, y_temp, test_size=30/44, random_state=42)\n",
    "\n",
    "learning_rates = [0.001, 0.01, 0.1, 1]\n",
    "results = {}\n",
    "\n",
    "for lr in learning_rates:\n",
    "    sgd = SGDRegressor(max_iter=1000, eta0=lr, learning_rate='constant', penalty=None, random_state=42)\n",
    "    sgd.fit(X_train, y_train)\n",
    "    y_val_pred = sgd.predict(X_val)\n",
    "    y_test_pred = sgd.predict(X_test)\n",
    "    r2_val = r2_score(y_val, y_val_pred)\n",
    "    r2_test = r2_score(y_test, y_test_pred)\n",
    "    results[lr] = {\n",
    "        \"coefficients\": sgd.coef_,\n",
    "        \"val_R2\": r2_val,\n",
    "        \"test_R2\": r2_test\n",
    "    }\n",
    "\n",
    "results\n"
   ]
  },
  {
   "cell_type": "markdown",
   "id": "eddfd84a",
   "metadata": {},
   "source": [
    "## Q3: Preprocessing and Multiple Linear Regression on Car Dataset"
   ]
  },
  {
   "cell_type": "code",
   "execution_count": 10,
   "id": "6d756b53",
   "metadata": {},
   "outputs": [],
   "source": [
    "\n",
    "\n",
    "cols = [\"symboling\",\"normalized_losses\",\"make\",\"fuel_type\",\"aspiration\",\"num_doors\",\"body_style\",\"drive_wheels\",\"engine_location\",\n",
    "        \"wheel_base\",\"length\",\"width\",\"height\",\"curb_weight\",\"engine_type\",\"num_cylinders\",\"engine_size\",\"fuel_system\",\"bore\",\"stroke\",\n",
    "        \"compression_ratio\",\"horsepower\",\"peak_rpm\",\"city_mpg\",\"highway_mpg\",\"price\"]\n",
    "df_car = pd.read_csv(\"imports-85.txt\", names=cols, na_values=[\"?\"])\n",
    "df_car.columns = cols\n",
    "\n"
   ]
  },
  {
   "cell_type": "code",
   "execution_count": 11,
   "id": "358b098e",
   "metadata": {},
   "outputs": [
    {
     "data": {
      "text/html": [
       "<div>\n",
       "<style scoped>\n",
       "    .dataframe tbody tr th:only-of-type {\n",
       "        vertical-align: middle;\n",
       "    }\n",
       "\n",
       "    .dataframe tbody tr th {\n",
       "        vertical-align: top;\n",
       "    }\n",
       "\n",
       "    .dataframe thead th {\n",
       "        text-align: right;\n",
       "    }\n",
       "</style>\n",
       "<table border=\"1\" class=\"dataframe\">\n",
       "  <thead>\n",
       "    <tr style=\"text-align: right;\">\n",
       "      <th></th>\n",
       "      <th>symboling</th>\n",
       "      <th>normalized_losses</th>\n",
       "      <th>make</th>\n",
       "      <th>fuel_type</th>\n",
       "      <th>aspiration</th>\n",
       "      <th>num_doors</th>\n",
       "      <th>body_style</th>\n",
       "      <th>drive_wheels</th>\n",
       "      <th>engine_location</th>\n",
       "      <th>wheel_base</th>\n",
       "      <th>...</th>\n",
       "      <th>engine_size</th>\n",
       "      <th>fuel_system</th>\n",
       "      <th>bore</th>\n",
       "      <th>stroke</th>\n",
       "      <th>compression_ratio</th>\n",
       "      <th>horsepower</th>\n",
       "      <th>peak_rpm</th>\n",
       "      <th>city_mpg</th>\n",
       "      <th>highway_mpg</th>\n",
       "      <th>price</th>\n",
       "    </tr>\n",
       "  </thead>\n",
       "  <tbody>\n",
       "    <tr>\n",
       "      <th>0</th>\n",
       "      <td>3</td>\n",
       "      <td>NaN</td>\n",
       "      <td>alfa-romero</td>\n",
       "      <td>gas</td>\n",
       "      <td>std</td>\n",
       "      <td>two</td>\n",
       "      <td>convertible</td>\n",
       "      <td>rwd</td>\n",
       "      <td>front</td>\n",
       "      <td>88.6</td>\n",
       "      <td>...</td>\n",
       "      <td>130</td>\n",
       "      <td>mpfi</td>\n",
       "      <td>3.47</td>\n",
       "      <td>2.68</td>\n",
       "      <td>9.0</td>\n",
       "      <td>111.0</td>\n",
       "      <td>5000.0</td>\n",
       "      <td>21</td>\n",
       "      <td>27</td>\n",
       "      <td>13495.0</td>\n",
       "    </tr>\n",
       "    <tr>\n",
       "      <th>1</th>\n",
       "      <td>3</td>\n",
       "      <td>NaN</td>\n",
       "      <td>alfa-romero</td>\n",
       "      <td>gas</td>\n",
       "      <td>std</td>\n",
       "      <td>two</td>\n",
       "      <td>convertible</td>\n",
       "      <td>rwd</td>\n",
       "      <td>front</td>\n",
       "      <td>88.6</td>\n",
       "      <td>...</td>\n",
       "      <td>130</td>\n",
       "      <td>mpfi</td>\n",
       "      <td>3.47</td>\n",
       "      <td>2.68</td>\n",
       "      <td>9.0</td>\n",
       "      <td>111.0</td>\n",
       "      <td>5000.0</td>\n",
       "      <td>21</td>\n",
       "      <td>27</td>\n",
       "      <td>16500.0</td>\n",
       "    </tr>\n",
       "    <tr>\n",
       "      <th>2</th>\n",
       "      <td>1</td>\n",
       "      <td>NaN</td>\n",
       "      <td>alfa-romero</td>\n",
       "      <td>gas</td>\n",
       "      <td>std</td>\n",
       "      <td>two</td>\n",
       "      <td>hatchback</td>\n",
       "      <td>rwd</td>\n",
       "      <td>front</td>\n",
       "      <td>94.5</td>\n",
       "      <td>...</td>\n",
       "      <td>152</td>\n",
       "      <td>mpfi</td>\n",
       "      <td>2.68</td>\n",
       "      <td>3.47</td>\n",
       "      <td>9.0</td>\n",
       "      <td>154.0</td>\n",
       "      <td>5000.0</td>\n",
       "      <td>19</td>\n",
       "      <td>26</td>\n",
       "      <td>16500.0</td>\n",
       "    </tr>\n",
       "    <tr>\n",
       "      <th>3</th>\n",
       "      <td>2</td>\n",
       "      <td>164.0</td>\n",
       "      <td>audi</td>\n",
       "      <td>gas</td>\n",
       "      <td>std</td>\n",
       "      <td>four</td>\n",
       "      <td>sedan</td>\n",
       "      <td>fwd</td>\n",
       "      <td>front</td>\n",
       "      <td>99.8</td>\n",
       "      <td>...</td>\n",
       "      <td>109</td>\n",
       "      <td>mpfi</td>\n",
       "      <td>3.19</td>\n",
       "      <td>3.40</td>\n",
       "      <td>10.0</td>\n",
       "      <td>102.0</td>\n",
       "      <td>5500.0</td>\n",
       "      <td>24</td>\n",
       "      <td>30</td>\n",
       "      <td>13950.0</td>\n",
       "    </tr>\n",
       "    <tr>\n",
       "      <th>4</th>\n",
       "      <td>2</td>\n",
       "      <td>164.0</td>\n",
       "      <td>audi</td>\n",
       "      <td>gas</td>\n",
       "      <td>std</td>\n",
       "      <td>four</td>\n",
       "      <td>sedan</td>\n",
       "      <td>4wd</td>\n",
       "      <td>front</td>\n",
       "      <td>99.4</td>\n",
       "      <td>...</td>\n",
       "      <td>136</td>\n",
       "      <td>mpfi</td>\n",
       "      <td>3.19</td>\n",
       "      <td>3.40</td>\n",
       "      <td>8.0</td>\n",
       "      <td>115.0</td>\n",
       "      <td>5500.0</td>\n",
       "      <td>18</td>\n",
       "      <td>22</td>\n",
       "      <td>17450.0</td>\n",
       "    </tr>\n",
       "  </tbody>\n",
       "</table>\n",
       "<p>5 rows × 26 columns</p>\n",
       "</div>"
      ],
      "text/plain": [
       "   symboling  normalized_losses         make fuel_type aspiration num_doors  \\\n",
       "0          3                NaN  alfa-romero       gas        std       two   \n",
       "1          3                NaN  alfa-romero       gas        std       two   \n",
       "2          1                NaN  alfa-romero       gas        std       two   \n",
       "3          2              164.0         audi       gas        std      four   \n",
       "4          2              164.0         audi       gas        std      four   \n",
       "\n",
       "    body_style drive_wheels engine_location  wheel_base  ...  engine_size  \\\n",
       "0  convertible          rwd           front        88.6  ...          130   \n",
       "1  convertible          rwd           front        88.6  ...          130   \n",
       "2    hatchback          rwd           front        94.5  ...          152   \n",
       "3        sedan          fwd           front        99.8  ...          109   \n",
       "4        sedan          4wd           front        99.4  ...          136   \n",
       "\n",
       "   fuel_system  bore  stroke compression_ratio horsepower  peak_rpm city_mpg  \\\n",
       "0         mpfi  3.47    2.68               9.0      111.0    5000.0       21   \n",
       "1         mpfi  3.47    2.68               9.0      111.0    5000.0       21   \n",
       "2         mpfi  2.68    3.47               9.0      154.0    5000.0       19   \n",
       "3         mpfi  3.19    3.40              10.0      102.0    5500.0       24   \n",
       "4         mpfi  3.19    3.40               8.0      115.0    5500.0       18   \n",
       "\n",
       "   highway_mpg    price  \n",
       "0           27  13495.0  \n",
       "1           27  16500.0  \n",
       "2           26  16500.0  \n",
       "3           30  13950.0  \n",
       "4           22  17450.0  \n",
       "\n",
       "[5 rows x 26 columns]"
      ]
     },
     "execution_count": 11,
     "metadata": {},
     "output_type": "execute_result"
    }
   ],
   "source": [
    "df_car.head()"
   ]
  },
  {
   "cell_type": "code",
   "execution_count": 12,
   "id": "0fba702f",
   "metadata": {},
   "outputs": [],
   "source": [
    "df_car = df_car.dropna(subset=[\"price\"])\n",
    "df_car.fillna(df_car.median(numeric_only=True), inplace=True)"
   ]
  },
  {
   "cell_type": "code",
   "execution_count": 13,
   "id": "f6fa95ff",
   "metadata": {},
   "outputs": [
    {
     "name": "stderr",
     "output_type": "stream",
     "text": [
      "C:\\Users\\aniru\\AppData\\Local\\Temp\\ipykernel_31312\\198430375.py:3: FutureWarning: Downcasting behavior in `replace` is deprecated and will be removed in a future version. To retain the old behavior, explicitly call `result.infer_objects(copy=False)`. To opt-in to the future behavior, set `pd.set_option('future.no_silent_downcasting', True)`\n",
      "  df_car[\"num_doors\"] = df_car[\"num_doors\"].replace({\"two\":2, \"four\":4})\n",
      "C:\\Users\\aniru\\AppData\\Local\\Temp\\ipykernel_31312\\198430375.py:4: FutureWarning: Downcasting behavior in `replace` is deprecated and will be removed in a future version. To retain the old behavior, explicitly call `result.infer_objects(copy=False)`. To opt-in to the future behavior, set `pd.set_option('future.no_silent_downcasting', True)`\n",
      "  df_car[\"num_cylinders\"] = df_car[\"num_cylinders\"].replace(\n"
     ]
    }
   ],
   "source": [
    "from sklearn.preprocessing import LabelEncoder\n",
    "\n",
    "df_car[\"num_doors\"] = df_car[\"num_doors\"].replace({\"two\":2, \"four\":4})\n",
    "df_car[\"num_cylinders\"] = df_car[\"num_cylinders\"].replace(\n",
    "    {\"two\":2,\"three\":3,\"four\":4,\"five\":5,\"six\":6,\"eight\":8,\"twelve\":12}\n",
    ")\n",
    "\n",
    "df_car = pd.get_dummies(df_car, columns=[\"body_style\",\"drive_wheels\"])\n",
    "\n",
    "le = LabelEncoder()\n",
    "for col in [\"make\",\"aspiration\",\"engine_location\",\"fuel_type\"]:\n",
    "    df_car[col] = le.fit_transform(df_car[col].astype(str))\n",
    "\n",
    "df_car[\"fuel_system\"] = df_car[\"fuel_system\"].astype(str).apply(lambda x: 1 if \"pfi\" in x else 0)\n",
    "df_car[\"engine_type\"] = df_car[\"engine_type\"].astype(str).apply(lambda x: 1 if \"ohc\" in x else 0)\n"
   ]
  },
  {
   "cell_type": "code",
   "execution_count": 14,
   "id": "ec2a50f9",
   "metadata": {},
   "outputs": [],
   "source": [
    "from sklearn.preprocessing import StandardScaler\n",
    "\n",
    "X = df_car.drop(columns=[\"price\"])\n",
    "y = df_car[\"price\"]\n",
    "scaler = StandardScaler()\n",
    "X_scaled = scaler.fit_transform(X)"
   ]
  },
  {
   "cell_type": "code",
   "execution_count": 15,
   "id": "9e3bef5f",
   "metadata": {},
   "outputs": [
    {
     "name": "stdout",
     "output_type": "stream",
     "text": [
      "[[ 1.72504964 -0.17830627 -1.97171697 ... -0.20359464 -1.19234506\n",
      "   1.29614814]\n",
      " [ 1.72504964 -0.17830627 -1.97171697 ... -0.20359464 -1.19234506\n",
      "   1.29614814]\n",
      " [ 0.1271926  -0.17830627 -1.97171697 ... -0.20359464 -1.19234506\n",
      "   1.29614814]\n",
      " ...\n",
      " [-1.47066444 -0.80268884  1.39503761 ... -0.20359464 -1.19234506\n",
      "   1.29614814]\n",
      " [-1.47066444 -0.80268884  1.39503761 ... -0.20359464 -1.19234506\n",
      "   1.29614814]\n",
      " [-1.47066444 -0.80268884  1.39503761 ... -0.20359464 -1.19234506\n",
      "   1.29614814]]\n",
      "[13495. 16500. 16500. 13950. 17450. 15250. 17710. 18920. 23875. 16430.\n",
      " 16925. 20970. 21105. 24565. 30760. 41315. 36880.  5151.  6295.  6575.\n",
      "  5572.  6377.  7957.  6229.  6692.  7609.  8558.  8921. 12964.  6479.\n",
      "  6855.  5399.  6529.  7129.  7295.  7295.  7895.  9095.  8845. 10295.\n",
      " 12945. 10345.  6785. 11048. 32250. 35550. 36000.  5195.  6095.  6795.\n",
      "  6695.  7395. 10945. 11845. 13645. 15645.  8845.  8495. 10595. 10245.\n",
      " 10795. 11245. 18280. 18344. 25552. 28248. 28176. 31600. 34184. 35056.\n",
      " 40960. 45400. 16503.  5389.  6189.  6669.  7689.  9959.  8499. 12629.\n",
      " 14869. 14489.  6989.  8189.  9279.  9279.  5499.  7099.  6649.  6849.\n",
      "  7349.  7299.  7799.  7499.  7999.  8249.  8949.  9549. 13499. 14399.\n",
      " 13499. 17199. 19699. 18399. 11900. 13200. 12440. 13860. 15580. 16900.\n",
      " 16695. 17075. 16630. 17950. 18150.  5572.  7957.  6229.  6692.  7609.\n",
      "  8921. 12764. 22018. 32528. 34028. 37028.  9295.  9895. 11850. 12170.\n",
      " 15040. 15510. 18150. 18620.  5118.  7053.  7603.  7126.  7775.  9960.\n",
      "  9233. 11259.  7463. 10198.  8013. 11694.  5348.  6338.  6488.  6918.\n",
      "  7898.  8778.  6938.  7198.  7898.  7788.  7738.  8358.  9258.  8058.\n",
      "  8238.  9298.  9538.  8449.  9639.  9989. 11199. 11549. 17669.  8948.\n",
      " 10698.  9988. 10898. 11248. 16558. 15998. 15690. 15750.  7775.  7975.\n",
      "  7995.  8195.  8495.  9495.  9995. 11595.  9980. 13295. 13845. 12290.\n",
      " 12940. 13415. 15985. 16515. 18420. 18950. 16845. 19045. 21485. 22470.\n",
      " 22625.]\n"
     ]
    }
   ],
   "source": [
    "print(X_scaled)\n",
    "print(y.values)"
   ]
  },
  {
   "cell_type": "code",
   "execution_count": 17,
   "id": "0fd62bf3",
   "metadata": {},
   "outputs": [],
   "source": [
    "X = pd.DataFrame(X_scaled) \n",
    "y = pd.to_numeric(y, errors='coerce')\n",
    "y = y.fillna(np.nan).dropna()"
   ]
  },
  {
   "cell_type": "code",
   "execution_count": 19,
   "id": "8e017602",
   "metadata": {},
   "outputs": [],
   "source": [
    "X = X.apply(pd.to_numeric, errors='coerce')  # Convert all to numbers, invalid → NaN\n",
    "X = X.fillna(0)"
   ]
  },
  {
   "cell_type": "code",
   "execution_count": 20,
   "id": "1b5109d5",
   "metadata": {},
   "outputs": [],
   "source": [
    "y = pd.to_numeric(y, errors='coerce')"
   ]
  },
  {
   "cell_type": "code",
   "execution_count": 21,
   "id": "b361e9e2",
   "metadata": {},
   "outputs": [
    {
     "name": "stdout",
     "output_type": "stream",
     "text": [
      "R² Score: 0.8731212629008539\n"
     ]
    }
   ],
   "source": [
    "from sklearn.model_selection import train_test_split\n",
    "from sklearn.linear_model import LinearRegression\n",
    "from sklearn.metrics import r2_score\n",
    "\n",
    "X_train, X_test, y_train, y_test = train_test_split(X, y, test_size=0.3, random_state=42)\n",
    "\n",
    "lr = LinearRegression()\n",
    "lr.fit(X_train, y_train)\n",
    "y_pred = lr.predict(X_test)\n",
    "\n",
    "print(\"R² Score:\", r2_score(y_test, y_pred))\n"
   ]
  },
  {
   "cell_type": "code",
   "execution_count": 22,
   "id": "9ac10c0b",
   "metadata": {},
   "outputs": [
    {
     "name": "stdout",
     "output_type": "stream",
     "text": [
      "Original R² Score: 0.8731212629008539\n",
      "PCA Reduced R² Score: 0.8491442176401741\n"
     ]
    }
   ],
   "source": [
    "from sklearn.decomposition import PCA\n",
    "from sklearn.model_selection import train_test_split\n",
    "from sklearn.linear_model import LinearRegression\n",
    "from sklearn.metrics import r2_score\n",
    "\n",
    "X_train, X_test, y_train, y_test = train_test_split(X, y, test_size=0.3, random_state=42)\n",
    "lr = LinearRegression()\n",
    "lr.fit(X_train, y_train)\n",
    "y_pred = lr.predict(X_test)\n",
    "\n",
    "pca = PCA(n_components=0.95)\n",
    "X_train_pca = pca.fit_transform(X_train)\n",
    "X_test_pca = pca.transform(X_test)\n",
    "lr_pca = LinearRegression()\n",
    "lr_pca.fit(X_train_pca, y_train)\n",
    "y_pred_pca = lr_pca.predict(X_test_pca)\n",
    "\n",
    "print(\"Original R² Score:\", r2_score(y_test, y_pred))\n",
    "print(\"PCA Reduced R² Score:\", r2_score(y_test, y_pred_pca))"
   ]
  },
  {
   "cell_type": "code",
   "execution_count": null,
   "id": "21cf3f73",
   "metadata": {},
   "outputs": [],
   "source": []
  }
 ],
 "metadata": {
  "kernelspec": {
   "display_name": "Python 3",
   "language": "python",
   "name": "python3"
  },
  "language_info": {
   "codemirror_mode": {
    "name": "ipython",
    "version": 3
   },
   "file_extension": ".py",
   "mimetype": "text/x-python",
   "name": "python",
   "nbconvert_exporter": "python",
   "pygments_lexer": "ipython3",
   "version": "3.13.5"
  }
 },
 "nbformat": 4,
 "nbformat_minor": 5
}
